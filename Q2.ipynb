{
 "cells": [
  {
   "cell_type": "code",
   "execution_count": 14,
   "metadata": {
    "collapsed": false
   },
   "outputs": [
    {
     "name": "stdout",
     "output_type": "stream",
     "text": [
      "0.167121426631\n"
     ]
    }
   ],
   "source": [
    "from pandas import Series, DataFrame\n",
    "import pandas as pd\n",
    "\n",
    "data_2011= pd.read_csv('Calls_for_Service_2011.csv')\n",
    "data_2012= pd.read_csv('Calls_for_Service_2012.csv')\n",
    "data_2013= pd.read_csv('Calls_for_Service_2013.csv')\n",
    "data_2014= pd.read_csv('Calls_for_Service_2014.csv')\n",
    "data_2015= pd.read_csv('Calls_for_Service_2015.csv')\n",
    "\n",
    "data_sum=pd.concat([data_2011, data_2012,data_2013, data_2014,data_2015])\n",
    "\n",
    "\n",
    "##What fraction of calls are of the most common type?\n",
    "type_counts = data_sum['Type_'].value_counts()\n",
    "print (float(type_counts[1])/data_sum['Type_'].count())\n",
    "##0.167121426631\n",
    "\n",
    "##Some calls result in an officer being dispatched to the scene, \n",
    "##and some log an arrival time. What is the median response time \n",
    "##(dispatch to arrival), in seconds, considering only valid (i.e. non-negative) times?"
   ]
  },
  {
   "cell_type": "code",
   "execution_count": 15,
   "metadata": {
    "collapsed": false
   },
   "outputs": [
    {
     "data": {
      "text/html": [
       "<div>\n",
       "<table border=\"1\" class=\"dataframe\">\n",
       "  <thead>\n",
       "    <tr style=\"text-align: right;\">\n",
       "      <th></th>\n",
       "      <th>NOPD_Item</th>\n",
       "      <th>Type_</th>\n",
       "      <th>TypeText</th>\n",
       "      <th>Priority</th>\n",
       "      <th>MapX</th>\n",
       "      <th>MapY</th>\n",
       "      <th>TimeCreate</th>\n",
       "      <th>TimeDispatch</th>\n",
       "      <th>TimeArrive</th>\n",
       "      <th>TimeClosed</th>\n",
       "      <th>Disposition</th>\n",
       "      <th>DispositionText</th>\n",
       "      <th>BLOCK_ADDRESS</th>\n",
       "      <th>Zip</th>\n",
       "      <th>PoliceDistrict</th>\n",
       "      <th>Location</th>\n",
       "    </tr>\n",
       "  </thead>\n",
       "  <tbody>\n",
       "    <tr>\n",
       "      <th>0</th>\n",
       "      <td>A0000111</td>\n",
       "      <td>17M</td>\n",
       "      <td>MUNICIPAL  ATTTACHME</td>\n",
       "      <td>1F</td>\n",
       "      <td>3673089</td>\n",
       "      <td>533629</td>\n",
       "      <td>01/01/2011 12:00:02 AM</td>\n",
       "      <td>NaN</td>\n",
       "      <td>NaN</td>\n",
       "      <td>01/01/2011 12:00:03 AM</td>\n",
       "      <td>NAT</td>\n",
       "      <td>NECESSARY ACTION TAKEN</td>\n",
       "      <td>007XX S Dupre St</td>\n",
       "      <td>70119</td>\n",
       "      <td>1</td>\n",
       "      <td>(29.961547427694992, -90.09455728362126)</td>\n",
       "    </tr>\n",
       "    <tr>\n",
       "      <th>1</th>\n",
       "      <td>A0000211</td>\n",
       "      <td>17M</td>\n",
       "      <td>MUNICIPAL  ATTTACHME</td>\n",
       "      <td>1F</td>\n",
       "      <td>3673089</td>\n",
       "      <td>533629</td>\n",
       "      <td>01/01/2011 12:00:02 AM</td>\n",
       "      <td>NaN</td>\n",
       "      <td>NaN</td>\n",
       "      <td>01/01/2011 12:00:04 AM</td>\n",
       "      <td>NAT</td>\n",
       "      <td>NECESSARY ACTION TAKEN</td>\n",
       "      <td>007XX S Dupre St</td>\n",
       "      <td>70119</td>\n",
       "      <td>1</td>\n",
       "      <td>(29.961547427694992, -90.09455728362126)</td>\n",
       "    </tr>\n",
       "    <tr>\n",
       "      <th>2</th>\n",
       "      <td>A0000311</td>\n",
       "      <td>17M</td>\n",
       "      <td>MUNICIPAL  ATTTACHME</td>\n",
       "      <td>1F</td>\n",
       "      <td>3673089</td>\n",
       "      <td>533629</td>\n",
       "      <td>01/01/2011 12:00:02 AM</td>\n",
       "      <td>NaN</td>\n",
       "      <td>NaN</td>\n",
       "      <td>01/01/2011 12:00:04 AM</td>\n",
       "      <td>NAT</td>\n",
       "      <td>NECESSARY ACTION TAKEN</td>\n",
       "      <td>007XX S Dupre St</td>\n",
       "      <td>70119</td>\n",
       "      <td>1</td>\n",
       "      <td>(29.961547427694992, -90.09455728362126)</td>\n",
       "    </tr>\n",
       "    <tr>\n",
       "      <th>3</th>\n",
       "      <td>A0000411</td>\n",
       "      <td>17M</td>\n",
       "      <td>MUNICIPAL  ATTTACHME</td>\n",
       "      <td>1F</td>\n",
       "      <td>3673089</td>\n",
       "      <td>533629</td>\n",
       "      <td>01/01/2011 12:00:02 AM</td>\n",
       "      <td>NaN</td>\n",
       "      <td>NaN</td>\n",
       "      <td>01/01/2011 12:00:04 AM</td>\n",
       "      <td>NAT</td>\n",
       "      <td>NECESSARY ACTION TAKEN</td>\n",
       "      <td>007XX S Dupre St</td>\n",
       "      <td>70119</td>\n",
       "      <td>1</td>\n",
       "      <td>(29.961547427694992, -90.09455728362126)</td>\n",
       "    </tr>\n",
       "    <tr>\n",
       "      <th>4</th>\n",
       "      <td>A0000511</td>\n",
       "      <td>17M</td>\n",
       "      <td>MUNICIPAL  ATTTACHME</td>\n",
       "      <td>1F</td>\n",
       "      <td>3673089</td>\n",
       "      <td>533629</td>\n",
       "      <td>01/01/2011 12:00:02 AM</td>\n",
       "      <td>NaN</td>\n",
       "      <td>NaN</td>\n",
       "      <td>01/01/2011 12:00:05 AM</td>\n",
       "      <td>NAT</td>\n",
       "      <td>NECESSARY ACTION TAKEN</td>\n",
       "      <td>007XX S Dupre St</td>\n",
       "      <td>70119</td>\n",
       "      <td>1</td>\n",
       "      <td>(29.961547427694992, -90.09455728362126)</td>\n",
       "    </tr>\n",
       "  </tbody>\n",
       "</table>\n",
       "</div>"
      ],
      "text/plain": [
       "  NOPD_Item Type_              TypeText Priority     MapX    MapY  \\\n",
       "0  A0000111   17M  MUNICIPAL  ATTTACHME       1F  3673089  533629   \n",
       "1  A0000211   17M  MUNICIPAL  ATTTACHME       1F  3673089  533629   \n",
       "2  A0000311   17M  MUNICIPAL  ATTTACHME       1F  3673089  533629   \n",
       "3  A0000411   17M  MUNICIPAL  ATTTACHME       1F  3673089  533629   \n",
       "4  A0000511   17M  MUNICIPAL  ATTTACHME       1F  3673089  533629   \n",
       "\n",
       "               TimeCreate TimeDispatch TimeArrive              TimeClosed  \\\n",
       "0  01/01/2011 12:00:02 AM          NaN        NaN  01/01/2011 12:00:03 AM   \n",
       "1  01/01/2011 12:00:02 AM          NaN        NaN  01/01/2011 12:00:04 AM   \n",
       "2  01/01/2011 12:00:02 AM          NaN        NaN  01/01/2011 12:00:04 AM   \n",
       "3  01/01/2011 12:00:02 AM          NaN        NaN  01/01/2011 12:00:04 AM   \n",
       "4  01/01/2011 12:00:02 AM          NaN        NaN  01/01/2011 12:00:05 AM   \n",
       "\n",
       "  Disposition         DispositionText     BLOCK_ADDRESS    Zip  \\\n",
       "0         NAT  NECESSARY ACTION TAKEN  007XX S Dupre St  70119   \n",
       "1         NAT  NECESSARY ACTION TAKEN  007XX S Dupre St  70119   \n",
       "2         NAT  NECESSARY ACTION TAKEN  007XX S Dupre St  70119   \n",
       "3         NAT  NECESSARY ACTION TAKEN  007XX S Dupre St  70119   \n",
       "4         NAT  NECESSARY ACTION TAKEN  007XX S Dupre St  70119   \n",
       "\n",
       "   PoliceDistrict                                  Location  \n",
       "0               1  (29.961547427694992, -90.09455728362126)  \n",
       "1               1  (29.961547427694992, -90.09455728362126)  \n",
       "2               1  (29.961547427694992, -90.09455728362126)  \n",
       "3               1  (29.961547427694992, -90.09455728362126)  \n",
       "4               1  (29.961547427694992, -90.09455728362126)  "
      ]
     },
     "execution_count": 15,
     "metadata": {},
     "output_type": "execute_result"
    }
   ],
   "source": [
    "data_2011.head()"
   ]
  },
  {
   "cell_type": "code",
   "execution_count": null,
   "metadata": {
    "collapsed": false
   },
   "outputs": [],
   "source": []
  },
  {
   "cell_type": "code",
   "execution_count": null,
   "metadata": {
    "collapsed": false
   },
   "outputs": [],
   "source": []
  },
  {
   "cell_type": "code",
   "execution_count": null,
   "metadata": {
    "collapsed": true
   },
   "outputs": [],
   "source": []
  }
 ],
 "metadata": {
  "kernelspec": {
   "display_name": "Python 3",
   "language": "python",
   "name": "python3"
  },
  "language_info": {
   "codemirror_mode": {
    "name": "ipython",
    "version": 3
   },
   "file_extension": ".py",
   "mimetype": "text/x-python",
   "name": "python",
   "nbconvert_exporter": "python",
   "pygments_lexer": "ipython3",
   "version": "3.5.1"
  }
 },
 "nbformat": 4,
 "nbformat_minor": 0
}
