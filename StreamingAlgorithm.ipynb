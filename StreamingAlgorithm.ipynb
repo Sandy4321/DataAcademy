{
 "cells": [
  {
   "cell_type": "code",
   "execution_count": 2,
   "metadata": {
    "collapsed": false
   },
   "outputs": [
    {
     "name": "stdout",
     "output_type": "stream",
     "text": [
      "M = 72 \tL = 21\n"
     ]
    }
   ],
   "source": [
    "import random\n",
    "#import ipdb\n",
    "from collections import deque;\n",
    "\n",
    "T = 8;\n",
    "N = 2;\n",
    "\n",
    "lastreg = deque();\n",
    "maxreg = [];\n",
    "\n",
    "small = T;\n",
    "# get the list of numbers\n",
    "for i in range(T):\n",
    "    n = random.randint(1, 10);\n",
    "    # compute the smallest number\n",
    "\n",
    "    # then pop the front element last register\n",
    "    if len(maxreg) >= N:\n",
    "        smallindex = 0;\n",
    "        k = 0;\n",
    "        small = 10;\n",
    "\n",
    "        # you probably have to ooptimize this portion\n",
    "        for el in maxreg:\n",
    "            if el < small:\n",
    "                small = el;\n",
    "                smallindex = k;\n",
    "            k+=1;\n",
    "\n",
    "        if n > small:\n",
    "                maxreg[smallindex] = n;\n",
    "\n",
    "        # pop left of last\n",
    "        lastreg.popleft();\n",
    "        lastreg.append(n);\n",
    "    else:\n",
    "        maxreg.append(n);\n",
    "        lastreg.append(n)\n",
    "\n",
    "    #print n, '\\t', maxreg, '\\t\\t\\t\\t', lastreg\n",
    "\n",
    "M = 1;\n",
    "L = 1;\n",
    "for i in range(N):\n",
    "    \n",
    "    M *= maxreg[i];\n",
    "    L *= lastreg[i];\n",
    "\n",
    "print ('M =', M, '\\tL =', L)\n"
   ]
  },
  {
   "cell_type": "code",
   "execution_count": null,
   "metadata": {
    "collapsed": true
   },
   "outputs": [],
   "source": []
  }
 ],
 "metadata": {
  "kernelspec": {
   "display_name": "Python 3",
   "language": "python",
   "name": "python3"
  },
  "language_info": {
   "codemirror_mode": {
    "name": "ipython",
    "version": 3
   },
   "file_extension": ".py",
   "mimetype": "text/x-python",
   "name": "python",
   "nbconvert_exporter": "python",
   "pygments_lexer": "ipython3",
   "version": "3.5.1"
  }
 },
 "nbformat": 4,
 "nbformat_minor": 0
}
