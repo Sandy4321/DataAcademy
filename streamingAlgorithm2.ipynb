{
 "cells": [
  {
   "cell_type": "code",
   "execution_count": 5,
   "metadata": {
    "collapsed": false
   },
   "outputs": [
    {
     "name": "stdout",
     "output_type": "stream",
     "text": [
      "For T=8, N=2 and 10M samples, the mean of M-L is: 47.7109836 , with a standard deviation of: 24.7911737383\n",
      "for a=32,b=64,T=32 and N=4 at 1M samples, cond_prob= 0.6175741477367392\n",
      "For T=32, N=4 and 10M samples, the mean of M-L is: 7893.1398486 , with a standard deviation of: 1592.19526072\n",
      "for a=2048,b=4096,T=32 and N=4 at 1M samples, cond_prob= 0.8711686879823595\n"
     ]
    }
   ],
   "source": [
    "#Q1: You see a stream of T numbers, each ranged 1 through 10 (inclusive), and store the numbers into two registers. The first is in a 'max' register which holds the largest N numbers encountered. The second is in the 'last' register which holds the last N numbers encountered. Let M be the product of the numbers in the 'max' register and L be the product of the numbers in the 'last' register after reading T values from the stream.\n",
    "\n",
    "import numpy as np\n",
    "import pylab as pl\n",
    "\n",
    "#assumption: all integers from 1 through 10 and we get all possible combinations for a certain length T\n",
    "\n",
    "#sample some lists of length T\n",
    "import random\n",
    "\n",
    "def return_diffs(T,N,sample_num):\n",
    "    diffs=[]\n",
    "    for i in range(sample_num):\n",
    "        temp_list=[random.randint(1,10) for i in range(T)]\n",
    "        last_reg=temp_list[-N:]\n",
    "        max_reg=np.sort(temp_list)[-N:]\n",
    "        L=np.prod(last_reg)\n",
    "        M=np.prod(max_reg)\n",
    "        diffs.append(M-L)\n",
    "    return diffs\n",
    "\n",
    "sample_num=10000000\n",
    "T=8\n",
    "N=2\n",
    "diffs=return_diffs(T,N,sample_num)\n",
    "ml_mean=np.mean(diffs)\n",
    "ml_std=np.std(diffs)\n",
    "print (\"For T=8, N=2 and 10M samples, the mean of M-L is:\",ml_mean,', with a standard deviation of:',ml_std)\n",
    "a=32\n",
    "b=64\n",
    "below_b=[item for item in diffs if item<=b]\n",
    "over_a_in_below_b=[item for item in below_b if item>=a]\n",
    "cond_prob=float(len(over_a_in_below_b))/len(below_b)\n",
    "print (\"for a=32,b=64,T=32 and N=4 at 1M samples, cond_prob=\",cond_prob)\n",
    "sample_num=10000000\n",
    "T=32\n",
    "N=4\n",
    "diffs=return_diffs(T,N,sample_num)\n",
    "ml_mean=np.mean(diffs)\n",
    "ml_std=np.std(diffs)\n",
    "print (\"For T=32, N=4 and 10M samples, the mean of M-L is:\",ml_mean,', with a standard deviation of:',ml_std)\n",
    "a=2048\n",
    "b=4096\n",
    "below_b=[item for item in diffs if item<=b]\n",
    "over_a_in_below_b=[item for item in below_b if item>=a]\n",
    "cond_prob=float(len(over_a_in_below_b))/len(below_b)\n",
    "print (\"for a=2048,b=4096,T=32 and N=4 at 1M samples, cond_prob=\",cond_prob)\n",
    "#when 10 million lists are sampled for N=2 and T=8, mean is 47.7217907, std DEV is 24.798317267213719\n",
    "#for N=4 and T=32, 1M sampled lists: mean=7893.415857,std=1590.8743987555883\n",
    "\n",
    "#conditional probability that M-L>=a given M-L<=b\n",
    "#get all values of M-L that are smaller than b and of those calculate fraction that is bigger than a\n",
    "\n",
    "#for a=2048,b=4096,T=32 and N=4 at 1M samples, cond_prob=0.8729679121627373\n",
    "#for a=32,b=64,T=8,N=2, cond_prob=0.6177329421512524"
   ]
  },
  {
   "cell_type": "code",
   "execution_count": 7,
   "metadata": {
    "collapsed": false
   },
   "outputs": [],
   "source": [
    "    diffs=[]\n",
    "    for i in range(20):\n",
    "        temp_list=[random.randint(1,10) for i in range(T)]\n",
    "        last_reg=temp_list[-N:]\n",
    "        max_reg=np.sort(temp_list)[-N:]\n",
    "        L=np.prod(last_reg)\n",
    "        M=np.prod(max_reg)\n",
    "        diffs.append(M-L)"
   ]
  },
  {
   "cell_type": "code",
   "execution_count": 17,
   "metadata": {
    "collapsed": false
   },
   "outputs": [
    {
     "data": {
      "text/plain": [
       "[5,\n",
       " 9,\n",
       " 5,\n",
       " 2,\n",
       " 3,\n",
       " 3,\n",
       " 5,\n",
       " 4,\n",
       " 4,\n",
       " 8,\n",
       " 2,\n",
       " 10,\n",
       " 4,\n",
       " 9,\n",
       " 2,\n",
       " 1,\n",
       " 1,\n",
       " 10,\n",
       " 4,\n",
       " 7,\n",
       " 4,\n",
       " 5,\n",
       " 4,\n",
       " 7,\n",
       " 3,\n",
       " 7,\n",
       " 9,\n",
       " 9,\n",
       " 9,\n",
       " 2,\n",
       " 8,\n",
       " 9]"
      ]
     },
     "execution_count": 17,
     "metadata": {},
     "output_type": "execute_result"
    }
   ],
   "source": [
    "temp_list=[random.randint(1,10) for i in range(T)]\n",
    "temp_list"
   ]
  },
  {
   "cell_type": "code",
   "execution_count": 18,
   "metadata": {
    "collapsed": false
   },
   "outputs": [
    {
     "data": {
      "text/plain": [
       "[8, 9]"
      ]
     },
     "execution_count": 18,
     "metadata": {},
     "output_type": "execute_result"
    }
   ],
   "source": [
    "last_reg=temp_list[-2:]\n",
    "last_reg"
   ]
  },
  {
   "cell_type": "code",
   "execution_count": 19,
   "metadata": {
    "collapsed": false
   },
   "outputs": [
    {
     "data": {
      "text/plain": [
       "array([10, 10])"
      ]
     },
     "execution_count": 19,
     "metadata": {},
     "output_type": "execute_result"
    }
   ],
   "source": [
    "max_reg=np.sort(temp_list)[-2:]\n",
    "max_reg"
   ]
  },
  {
   "cell_type": "code",
   "execution_count": 20,
   "metadata": {
    "collapsed": false
   },
   "outputs": [
    {
     "data": {
      "text/plain": [
       "72"
      ]
     },
     "execution_count": 20,
     "metadata": {},
     "output_type": "execute_result"
    }
   ],
   "source": [
    "L=np.prod(last_reg)\n",
    "L"
   ]
  },
  {
   "cell_type": "code",
   "execution_count": 21,
   "metadata": {
    "collapsed": false
   },
   "outputs": [
    {
     "data": {
      "text/plain": [
       "100"
      ]
     },
     "execution_count": 21,
     "metadata": {},
     "output_type": "execute_result"
    }
   ],
   "source": [
    "M=np.prod(max_reg)\n",
    "M"
   ]
  },
  {
   "cell_type": "code",
   "execution_count": 22,
   "metadata": {
    "collapsed": false
   },
   "outputs": [
    {
     "data": {
      "text/plain": [
       "28"
      ]
     },
     "execution_count": 22,
     "metadata": {},
     "output_type": "execute_result"
    }
   ],
   "source": [
    "M-L"
   ]
  },
  {
   "cell_type": "code",
   "execution_count": null,
   "metadata": {
    "collapsed": true
   },
   "outputs": [],
   "source": []
  }
 ],
 "metadata": {
  "kernelspec": {
   "display_name": "Python 3",
   "language": "python",
   "name": "python3"
  },
  "language_info": {
   "codemirror_mode": {
    "name": "ipython",
    "version": 3
   },
   "file_extension": ".py",
   "mimetype": "text/x-python",
   "name": "python",
   "nbconvert_exporter": "python",
   "pygments_lexer": "ipython3",
   "version": "3.5.1"
  }
 },
 "nbformat": 4,
 "nbformat_minor": 0
}
