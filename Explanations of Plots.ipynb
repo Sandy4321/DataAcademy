{
 "cells": [
  {
   "cell_type": "markdown",
   "metadata": {},
   "source": [
    "<h1 style=\"color:blue;\">Graphs Explanation :Stack Bar Plot.</h1>\n",
    "\n"
   ]
  },
  {
   "cell_type": "markdown",
   "metadata": {},
   "source": [
    "As we can see from the stacked bar plot, it shows the distribution of the City-Wide Ten most common crimes in each district.\n",
    "\n",
    "According to the bar plot, the Police district that recorded the highest crime was the <b>Southern</b>, followed by the <b>Mission</b> police district and then the n\n",
    "<b>Northern</b> police district. The crimes corresponding to these stacked bar plots is shown in the legend.\n",
    "\n",
    "The dark green color corresponds to Warrants in each of the districts representing the most committed crime in each district. Assault was the least recorded crime in each of the police district."
   ]
  },
  {
   "cell_type": "markdown",
   "metadata": {},
   "source": [
    "<h1 style=\"color:blue;\">Graphs Explanation :2D Histogram.</h1>\n"
   ]
  },
  {
   "cell_type": "markdown",
   "metadata": {},
   "source": [
    "This graph shows the 2D Histogram of the category of crimes in the data set. Warrants which appears on the last row , third column , the\n",
    "distribution of this crime appears to be the southern part of San Francisco, and little bit densed in the northern part-yellowish green color. With Assault, first row, second column. We see that most of the crimes did occured accross the city of San Francisco but the least in this case . Most of the Assault case also did happened in most part of the northern side of the city.(yellowish-green color). <b >Burglary</b>, <b>Larcency/Theft</b>, <b>Non-Criminal</b>, <b>Vandalism</b>, and <b>Other Offences</b> also appears to be the most common type of crimes that could be consider"
   ]
  },
  {
   "cell_type": "code",
   "execution_count": null,
   "metadata": {
    "collapsed": true
   },
   "outputs": [],
   "source": []
  }
 ],
 "metadata": {
  "kernelspec": {
   "display_name": "Python 3",
   "language": "python",
   "name": "python3"
  },
  "language_info": {
   "codemirror_mode": {
    "name": "ipython",
    "version": 3
   },
   "file_extension": ".py",
   "mimetype": "text/x-python",
   "name": "python",
   "nbconvert_exporter": "python",
   "pygments_lexer": "ipython3",
   "version": "3.5.1"
  }
 },
 "nbformat": 4,
 "nbformat_minor": 0
}
